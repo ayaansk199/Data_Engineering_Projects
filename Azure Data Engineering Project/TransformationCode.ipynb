{
 "cells": [
  {
   "cell_type": "markdown",
   "metadata": {},
   "source": [
    "# Azure Data Engineering Project\n",
    "\n",
    "###  Welcome to the Azure Data Engineering Project on Databricks Notebook! This notebook is designed to process error files stored in Azure Data Lake Storage, leveraging Azure Data Factory and Databricks for efficient data cleaning and analysis."
   ]
  },
  {
   "cell_type": "markdown",
   "metadata": {},
   "source": [
    "### Importing Libraries"
   ]
  },
  {
   "cell_type": "code",
   "execution_count": 93,
   "metadata": {},
   "outputs": [],
   "source": [
    "import pandas as pd\n",
    "import numpy as np  \n",
    "# Import SparkSession\n",
    "from pyspark.sql import SparkSession"
   ]
  },
  {
   "cell_type": "code",
   "execution_count": 94,
   "metadata": {},
   "outputs": [],
   "source": [
    "#Creating SparkSession\n",
    "\n",
    "spark = SparkSession.builder.appName(\"AzureDataEngineering\").getOrCreate()"
   ]
  },
  {
   "cell_type": "markdown",
   "metadata": {},
   "source": [
    "### Reading file"
   ]
  },
  {
   "cell_type": "code",
   "execution_count": 95,
   "metadata": {},
   "outputs": [],
   "source": [
    "file1 = spark.read.format(\"csv\").options(header = True, inferSchema = True).load(\"C:/Users/ayaan/Downloads/NetherlandErrorFile_EI - Netherland.csv\")\n",
    "file2 = spark.read.format(\"csv\").options(header = True, inferSchema = True).load(\"C:/Users/ayaan/Downloads/NetherlandErrorFile_ER - Netherland.csv\")"
   ]
  },
  {
   "cell_type": "markdown",
   "metadata": {},
   "source": [
    "### Displaying file"
   ]
  },
  {
   "cell_type": "code",
   "execution_count": 96,
   "metadata": {},
   "outputs": [
    {
     "name": "stdout",
     "output_type": "stream",
     "text": [
      "+----+----+--------+--------------------+\n",
      "|Type| _c1|FileCode|          ErrorEmail|\n",
      "+----+----+--------+--------------------+\n",
      "|  EI|NULL|  100056| rbowfin0@time.com,,|\n",
      "|  EI|NULL|  152615|ddarlasson1@intel...|\n",
      "|  EI|NULL|  205174|;;osomerset2@quan...|\n",
      "|  EI|NULL|  257733|lfosdick3@taobao.com|\n",
      "|  EI|NULL|  310292|bborrett4@amazon.de;|\n",
      "|  EI|NULL|  362851| hdavies5@elpais.com|\n",
      "|  EI|NULL|  415410|ccottell6@europa....|\n",
      "|  EI|NULL|  467969|emeeson7@paginegi...|\n",
      "|  EI|NULL|  520528|vbathowe8@whiteho...|\n",
      "|  EI|NULL|  573087|dharmstone9@blogs...|\n",
      "+----+----+--------+--------------------+\n",
      "only showing top 10 rows\n",
      "\n",
      "None\n",
      "+----+----+--------+----+--------------------+\n",
      "|Type| _c1|FileCode| _c3|          ErrorEmail|\n",
      "+----+----+--------+----+--------------------+\n",
      "|  ER|NULL|  100056|NULL| rbowfin0@time.com,,|\n",
      "|  ER|NULL|  152615|NULL|ddarlasson1@intel...|\n",
      "|  ER|NULL|  205174|NULL|;;osomerset2@quan...|\n",
      "|  ER|NULL|  257733|NULL|lfosdick3@taobao.com|\n",
      "|  ER|NULL|  310292|NULL|bborrett4@amazon.de;|\n",
      "|  ER|NULL|  362851|NULL| hdavies5@elpais.com|\n",
      "|  ER|NULL|  415410|NULL|ccottell6@europa....|\n",
      "|  ER|NULL|  467969|NULL|emeeson7@paginegi...|\n",
      "|  ER|NULL|  520528|NULL|vbathowe8@whiteho...|\n",
      "|  ER|NULL|  573087|NULL|dharmstone9@blogs...|\n",
      "+----+----+--------+----+--------------------+\n",
      "only showing top 10 rows\n",
      "\n",
      "None\n"
     ]
    }
   ],
   "source": [
    "print(file1.show(10))\n",
    "print(file2.show(10))"
   ]
  },
  {
   "cell_type": "markdown",
   "metadata": {},
   "source": [
    "### Dropping Unneccessary Column"
   ]
  },
  {
   "cell_type": "code",
   "execution_count": 97,
   "metadata": {},
   "outputs": [],
   "source": [
    "file1 = file1.drop(\"_c1\")\n",
    "file2 = file2.drop(\"_c1\", \"_c3\")"
   ]
  },
  {
   "cell_type": "code",
   "execution_count": 98,
   "metadata": {},
   "outputs": [
    {
     "name": "stdout",
     "output_type": "stream",
     "text": [
      "+----+--------+--------------------+\n",
      "|Type|FileCode|          ErrorEmail|\n",
      "+----+--------+--------------------+\n",
      "|  EI|  100056| rbowfin0@time.com,,|\n",
      "|  EI|  152615|ddarlasson1@intel...|\n",
      "|  EI|  205174|;;osomerset2@quan...|\n",
      "|  EI|  257733|lfosdick3@taobao.com|\n",
      "|  EI|  310292|bborrett4@amazon.de;|\n",
      "|  EI|  362851| hdavies5@elpais.com|\n",
      "|  EI|  415410|ccottell6@europa....|\n",
      "|  EI|  467969|emeeson7@paginegi...|\n",
      "|  EI|  520528|vbathowe8@whiteho...|\n",
      "|  EI|  573087|dharmstone9@blogs...|\n",
      "+----+--------+--------------------+\n",
      "only showing top 10 rows\n",
      "\n",
      "None\n"
     ]
    },
    {
     "name": "stdout",
     "output_type": "stream",
     "text": [
      "+----+--------+--------------------+\n",
      "|Type|FileCode|          ErrorEmail|\n",
      "+----+--------+--------------------+\n",
      "|  ER|  100056| rbowfin0@time.com,,|\n",
      "|  ER|  152615|ddarlasson1@intel...|\n",
      "|  ER|  205174|;;osomerset2@quan...|\n",
      "|  ER|  257733|lfosdick3@taobao.com|\n",
      "|  ER|  310292|bborrett4@amazon.de;|\n",
      "|  ER|  362851| hdavies5@elpais.com|\n",
      "|  ER|  415410|ccottell6@europa....|\n",
      "|  ER|  467969|emeeson7@paginegi...|\n",
      "|  ER|  520528|vbathowe8@whiteho...|\n",
      "|  ER|  573087|dharmstone9@blogs...|\n",
      "+----+--------+--------------------+\n",
      "only showing top 10 rows\n",
      "\n",
      "None\n"
     ]
    }
   ],
   "source": [
    "print(file1.show(10))\n",
    "print(file2.show(10))"
   ]
  },
  {
   "cell_type": "markdown",
   "metadata": {},
   "source": [
    "### Arranging Columns for Processing"
   ]
  },
  {
   "cell_type": "code",
   "execution_count": 99,
   "metadata": {},
   "outputs": [],
   "source": [
    "file1 = file1.select(\"FileCode\", \"Type\", \"ErrorEmail\")\n",
    "file2 = file2.select(\"FileCode\", \"Type\", \"ErrorEmail\")\n"
   ]
  },
  {
   "cell_type": "code",
   "execution_count": 100,
   "metadata": {},
   "outputs": [
    {
     "name": "stdout",
     "output_type": "stream",
     "text": [
      "+--------+----+--------------------+\n",
      "|FileCode|Type|          ErrorEmail|\n",
      "+--------+----+--------------------+\n",
      "|  100056|  EI| rbowfin0@time.com,,|\n",
      "|  152615|  EI|ddarlasson1@intel...|\n",
      "|  205174|  EI|;;osomerset2@quan...|\n",
      "|  257733|  EI|lfosdick3@taobao.com|\n",
      "|  310292|  EI|bborrett4@amazon.de;|\n",
      "|  362851|  EI| hdavies5@elpais.com|\n",
      "|  415410|  EI|ccottell6@europa....|\n",
      "|  467969|  EI|emeeson7@paginegi...|\n",
      "|  520528|  EI|vbathowe8@whiteho...|\n",
      "|  573087|  EI|dharmstone9@blogs...|\n",
      "+--------+----+--------------------+\n",
      "only showing top 10 rows\n",
      "\n",
      "None\n"
     ]
    },
    {
     "name": "stdout",
     "output_type": "stream",
     "text": [
      "+--------+----+--------------------+\n",
      "|FileCode|Type|          ErrorEmail|\n",
      "+--------+----+--------------------+\n",
      "|  100056|  ER| rbowfin0@time.com,,|\n",
      "|  152615|  ER|ddarlasson1@intel...|\n",
      "|  205174|  ER|;;osomerset2@quan...|\n",
      "|  257733|  ER|lfosdick3@taobao.com|\n",
      "|  310292|  ER|bborrett4@amazon.de;|\n",
      "|  362851|  ER| hdavies5@elpais.com|\n",
      "|  415410|  ER|ccottell6@europa....|\n",
      "|  467969|  ER|emeeson7@paginegi...|\n",
      "|  520528|  ER|vbathowe8@whiteho...|\n",
      "|  573087|  ER|dharmstone9@blogs...|\n",
      "+--------+----+--------------------+\n",
      "only showing top 10 rows\n",
      "\n",
      "None\n"
     ]
    }
   ],
   "source": [
    "print(file1.show(10))\n",
    "print(file2.show(10))"
   ]
  },
  {
   "cell_type": "markdown",
   "metadata": {},
   "source": [
    "### Appending both files"
   ]
  },
  {
   "cell_type": "code",
   "execution_count": 101,
   "metadata": {},
   "outputs": [],
   "source": [
    "spark_df = file1.unionAll(file2)  ##Appended both files"
   ]
  },
  {
   "cell_type": "code",
   "execution_count": 102,
   "metadata": {},
   "outputs": [
    {
     "data": {
      "text/plain": [
       "100"
      ]
     },
     "execution_count": 102,
     "metadata": {},
     "output_type": "execute_result"
    }
   ],
   "source": [
    "spark_df.select(\"FileCode\").count() #Total No. of rows"
   ]
  },
  {
   "cell_type": "markdown",
   "metadata": {},
   "source": [
    "## **Transformation**\n",
    "\n",
    "### Converting to pandas dataframe for transformation"
   ]
  },
  {
   "cell_type": "code",
   "execution_count": 103,
   "metadata": {},
   "outputs": [],
   "source": [
    "df = spark_df.toPandas()"
   ]
  },
  {
   "cell_type": "markdown",
   "metadata": {},
   "source": [
    "### Checking Type"
   ]
  },
  {
   "cell_type": "code",
   "execution_count": 104,
   "metadata": {},
   "outputs": [
    {
     "name": "stdout",
     "output_type": "stream",
     "text": [
      "<class 'pandas.core.frame.DataFrame'>\n"
     ]
    }
   ],
   "source": [
    "print(type(df))"
   ]
  },
  {
   "cell_type": "code",
   "execution_count": 105,
   "metadata": {},
   "outputs": [
    {
     "data": {
      "text/plain": [
       "Index(['FileCode', 'Type', 'ErrorEmail'], dtype='object')"
      ]
     },
     "execution_count": 105,
     "metadata": {},
     "output_type": "execute_result"
    }
   ],
   "source": [
    "df.columns"
   ]
  },
  {
   "cell_type": "code",
   "execution_count": 106,
   "metadata": {},
   "outputs": [
    {
     "data": {
      "text/html": [
       "<div>\n",
       "<style scoped>\n",
       "    .dataframe tbody tr th:only-of-type {\n",
       "        vertical-align: middle;\n",
       "    }\n",
       "\n",
       "    .dataframe tbody tr th {\n",
       "        vertical-align: top;\n",
       "    }\n",
       "\n",
       "    .dataframe thead th {\n",
       "        text-align: right;\n",
       "    }\n",
       "</style>\n",
       "<table border=\"1\" class=\"dataframe\">\n",
       "  <thead>\n",
       "    <tr style=\"text-align: right;\">\n",
       "      <th></th>\n",
       "      <th>FileCode</th>\n",
       "      <th>Type</th>\n",
       "      <th>ErrorEmail</th>\n",
       "    </tr>\n",
       "  </thead>\n",
       "  <tbody>\n",
       "    <tr>\n",
       "      <th>0</th>\n",
       "      <td>100056</td>\n",
       "      <td>EI</td>\n",
       "      <td>rbowfin0@time.com,,</td>\n",
       "    </tr>\n",
       "    <tr>\n",
       "      <th>1</th>\n",
       "      <td>152615</td>\n",
       "      <td>EI</td>\n",
       "      <td>ddarlasson1@intel.com</td>\n",
       "    </tr>\n",
       "    <tr>\n",
       "      <th>2</th>\n",
       "      <td>205174</td>\n",
       "      <td>EI</td>\n",
       "      <td>;;osomerset2@quantcast.com</td>\n",
       "    </tr>\n",
       "    <tr>\n",
       "      <th>3</th>\n",
       "      <td>257733</td>\n",
       "      <td>EI</td>\n",
       "      <td>lfosdick3@taobao.com</td>\n",
       "    </tr>\n",
       "    <tr>\n",
       "      <th>4</th>\n",
       "      <td>310292</td>\n",
       "      <td>EI</td>\n",
       "      <td>bborrett4@amazon.de;</td>\n",
       "    </tr>\n",
       "    <tr>\n",
       "      <th>...</th>\n",
       "      <td>...</td>\n",
       "      <td>...</td>\n",
       "      <td>...</td>\n",
       "    </tr>\n",
       "    <tr>\n",
       "      <th>95</th>\n",
       "      <td>2465211</td>\n",
       "      <td>ER</td>\n",
       "      <td>rrosenblum19@technorati.com@</td>\n",
       "    </tr>\n",
       "    <tr>\n",
       "      <th>96</th>\n",
       "      <td>2517770</td>\n",
       "      <td>ER</td>\n",
       "      <td>swey1a@google.ca</td>\n",
       "    </tr>\n",
       "    <tr>\n",
       "      <th>97</th>\n",
       "      <td>2570329</td>\n",
       "      <td>ER</td>\n",
       "      <td>bmeuse1b@usda.gov'''</td>\n",
       "    </tr>\n",
       "    <tr>\n",
       "      <th>98</th>\n",
       "      <td>2622888</td>\n",
       "      <td>ER</td>\n",
       "      <td>nokelly1c@ameblo.jp</td>\n",
       "    </tr>\n",
       "    <tr>\n",
       "      <th>99</th>\n",
       "      <td>2675447</td>\n",
       "      <td>ER</td>\n",
       "      <td>tgammons1d@about.me</td>\n",
       "    </tr>\n",
       "  </tbody>\n",
       "</table>\n",
       "<p>100 rows × 3 columns</p>\n",
       "</div>"
      ],
      "text/plain": [
       "    FileCode Type                    ErrorEmail\n",
       "0     100056   EI           rbowfin0@time.com,,\n",
       "1     152615   EI         ddarlasson1@intel.com\n",
       "2     205174   EI    ;;osomerset2@quantcast.com\n",
       "3     257733   EI          lfosdick3@taobao.com\n",
       "4     310292   EI          bborrett4@amazon.de;\n",
       "..       ...  ...                           ...\n",
       "95   2465211   ER  rrosenblum19@technorati.com@\n",
       "96   2517770   ER              swey1a@google.ca\n",
       "97   2570329   ER          bmeuse1b@usda.gov'''\n",
       "98   2622888   ER           nokelly1c@ameblo.jp\n",
       "99   2675447   ER           tgammons1d@about.me\n",
       "\n",
       "[100 rows x 3 columns]"
      ]
     },
     "execution_count": 106,
     "metadata": {},
     "output_type": "execute_result"
    }
   ],
   "source": [
    "df"
   ]
  },
  {
   "cell_type": "markdown",
   "metadata": {},
   "source": [
    "### Checking Stats"
   ]
  },
  {
   "cell_type": "code",
   "execution_count": 107,
   "metadata": {},
   "outputs": [
    {
     "name": "stdout",
     "output_type": "stream",
     "text": [
      "<class 'pandas.core.frame.DataFrame'>\n",
      "RangeIndex: 100 entries, 0 to 99\n",
      "Data columns (total 3 columns):\n",
      " #   Column      Non-Null Count  Dtype \n",
      "---  ------      --------------  ----- \n",
      " 0   FileCode    100 non-null    int32 \n",
      " 1   Type        100 non-null    object\n",
      " 2   ErrorEmail  100 non-null    object\n",
      "dtypes: int32(1), object(2)\n",
      "memory usage: 2.1+ KB\n"
     ]
    }
   ],
   "source": [
    "df.info() "
   ]
  },
  {
   "cell_type": "markdown",
   "metadata": {},
   "source": [
    "### Sorting Dataframe"
   ]
  },
  {
   "cell_type": "code",
   "execution_count": 108,
   "metadata": {},
   "outputs": [],
   "source": [
    "df = df.sort_values(by = [\"FileCode\", \"Type\"],  ascending=[True, True])"
   ]
  },
  {
   "cell_type": "code",
   "execution_count": 109,
   "metadata": {},
   "outputs": [
    {
     "data": {
      "text/html": [
       "<div>\n",
       "<style scoped>\n",
       "    .dataframe tbody tr th:only-of-type {\n",
       "        vertical-align: middle;\n",
       "    }\n",
       "\n",
       "    .dataframe tbody tr th {\n",
       "        vertical-align: top;\n",
       "    }\n",
       "\n",
       "    .dataframe thead th {\n",
       "        text-align: right;\n",
       "    }\n",
       "</style>\n",
       "<table border=\"1\" class=\"dataframe\">\n",
       "  <thead>\n",
       "    <tr style=\"text-align: right;\">\n",
       "      <th></th>\n",
       "      <th>FileCode</th>\n",
       "      <th>Type</th>\n",
       "      <th>ErrorEmail</th>\n",
       "    </tr>\n",
       "  </thead>\n",
       "  <tbody>\n",
       "    <tr>\n",
       "      <th>0</th>\n",
       "      <td>100056</td>\n",
       "      <td>EI</td>\n",
       "      <td>rbowfin0@time.com,,</td>\n",
       "    </tr>\n",
       "    <tr>\n",
       "      <th>50</th>\n",
       "      <td>100056</td>\n",
       "      <td>ER</td>\n",
       "      <td>rbowfin0@time.com,,</td>\n",
       "    </tr>\n",
       "    <tr>\n",
       "      <th>1</th>\n",
       "      <td>152615</td>\n",
       "      <td>EI</td>\n",
       "      <td>ddarlasson1@intel.com</td>\n",
       "    </tr>\n",
       "    <tr>\n",
       "      <th>51</th>\n",
       "      <td>152615</td>\n",
       "      <td>ER</td>\n",
       "      <td>ddarlasson1@intel.com</td>\n",
       "    </tr>\n",
       "    <tr>\n",
       "      <th>2</th>\n",
       "      <td>205174</td>\n",
       "      <td>EI</td>\n",
       "      <td>;;osomerset2@quantcast.com</td>\n",
       "    </tr>\n",
       "  </tbody>\n",
       "</table>\n",
       "</div>"
      ],
      "text/plain": [
       "    FileCode Type                  ErrorEmail\n",
       "0     100056   EI         rbowfin0@time.com,,\n",
       "50    100056   ER         rbowfin0@time.com,,\n",
       "1     152615   EI       ddarlasson1@intel.com\n",
       "51    152615   ER       ddarlasson1@intel.com\n",
       "2     205174   EI  ;;osomerset2@quantcast.com"
      ]
     },
     "execution_count": 109,
     "metadata": {},
     "output_type": "execute_result"
    }
   ],
   "source": [
    "df.head()"
   ]
  },
  {
   "cell_type": "markdown",
   "metadata": {},
   "source": [
    "### Unique Counts"
   ]
  },
  {
   "cell_type": "code",
   "execution_count": 112,
   "metadata": {},
   "outputs": [
    {
     "name": "stdout",
     "output_type": "stream",
     "text": [
      "No of unique counts arrived 50\n"
     ]
    }
   ],
   "source": [
    "unique_counts = df[\"FileCode\"].nunique()\n",
    "print(f\"No of unique counts arrived {unique_counts}\")"
   ]
  },
  {
   "cell_type": "code",
   "execution_count": null,
   "metadata": {},
   "outputs": [],
   "source": []
  }
 ],
 "metadata": {
  "kernelspec": {
   "display_name": "Python 3",
   "language": "python",
   "name": "python3"
  },
  "language_info": {
   "codemirror_mode": {
    "name": "ipython",
    "version": 3
   },
   "file_extension": ".py",
   "mimetype": "text/x-python",
   "name": "python",
   "nbconvert_exporter": "python",
   "pygments_lexer": "ipython3",
   "version": "3.11.7"
  }
 },
 "nbformat": 4,
 "nbformat_minor": 2
}
